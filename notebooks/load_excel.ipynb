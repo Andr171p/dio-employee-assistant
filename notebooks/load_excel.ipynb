{
 "cells": [
  {
   "cell_type": "markdown",
   "metadata": {},
   "source": [
    "# Обработка и загрузка документов разных форматов"
   ]
  },
  {
   "cell_type": "code",
   "execution_count": 7,
   "metadata": {},
   "outputs": [
    {
     "name": "stdout",
     "output_type": "stream",
     "text": [
      "Note: you may need to restart the kernel to use updated packages.\n",
      "Defaulting to user installation because normal site-packages is not writeable\n",
      "Collecting xlrd\n",
      "  Downloading xlrd-2.0.1-py2.py3-none-any.whl.metadata (3.4 kB)\n",
      "Downloading xlrd-2.0.1-py2.py3-none-any.whl (96 kB)\n",
      "Installing collected packages: xlrd\n",
      "Successfully installed xlrd-2.0.1\n",
      "Note: you may need to restart the kernel to use updated packages.\n",
      "Note: you may need to restart the kernel to use updated packages.\n"
     ]
    }
   ],
   "source": [
    "%pip install --upgrade --quiet langchain-community unstructured openpyxl\n",
    "%pip install xlrd\n",
    "%pip install --upgrade --quiet  docx2txt"
   ]
  },
  {
   "cell_type": "code",
   "execution_count": 8,
   "metadata": {},
   "outputs": [],
   "source": [
    "from langchain_community.document_loaders import UnstructuredExcelLoader"
   ]
  },
  {
   "cell_type": "markdown",
   "metadata": {},
   "source": [
    "Получаем путь до директории с файлами:"
   ]
  },
  {
   "cell_type": "code",
   "execution_count": 9,
   "metadata": {},
   "outputs": [],
   "source": [
    "import os\n",
    "\n",
    "BASE_DIR: str = r\"C:\\Users\\andre\\IdeaProjects\\DIORag\"\n",
    "\n",
    "DOCUMENTS_DIR: str = os.path.join(BASE_DIR, \"knowladge_base\", \"Справочная информация\")"
   ]
  },
  {
   "cell_type": "markdown",
   "metadata": {},
   "source": [
    "Сортировка файлов:"
   ]
  },
  {
   "cell_type": "code",
   "execution_count": 10,
   "metadata": {},
   "outputs": [],
   "source": [
    "def sort_by_extension(dir_path: str) -> list[str]:\n",
    "    excels = []\n",
    "    for file in os.listdir(dir_path):\n",
    "        extension = file.split(\".\")[-1]\n",
    "        if \"xls\" in extension:\n",
    "            excels.append(f\"{DOCUMENTS_DIR}\\{file}\")\n",
    "    return excels\n",
    "\n",
    "\n",
    "excels = sort_by_extension(DOCUMENTS_DIR)"
   ]
  },
  {
   "cell_type": "markdown",
   "metadata": {},
   "source": [
    "### Преобразование документов в текстовый формат:"
   ]
  },
  {
   "cell_type": "code",
   "execution_count": 12,
   "metadata": {},
   "outputs": [
    {
     "data": {
      "text/plain": [
       "73000"
      ]
     },
     "execution_count": 12,
     "metadata": {},
     "output_type": "execute_result"
    }
   ],
   "source": [
    "text = \"\"\n",
    "for excel in excels:\n",
    "    loader = UnstructuredExcelLoader(excel)\n",
    "    docs = loader.load()\n",
    "    for doc in docs:\n",
    "        text += f\"\\n\\n{doc.page_content}\"\n",
    "        \n",
    "        \n",
    "len(text)"
   ]
  },
  {
   "cell_type": "markdown",
   "metadata": {},
   "source": [
    "Загрузка документа:"
   ]
  },
  {
   "cell_type": "code",
   "execution_count": 14,
   "metadata": {},
   "outputs": [],
   "source": [
    "TEXT_FILE_PATH: str = os.path.join(BASE_DIR, \"documents\", \"Справочная_информация_из_таблиц.txt\")\n",
    "\n",
    "with open(\n",
    "    file=TEXT_FILE_PATH,\n",
    "    mode=\"w\",\n",
    "    encoding=\"utf-8\"\n",
    ") as file:\n",
    "    file.write(text)"
   ]
  }
 ],
 "metadata": {
  "kernelspec": {
   "display_name": "Python 3",
   "language": "python",
   "name": "python3"
  },
  "language_info": {
   "codemirror_mode": {
    "name": "ipython",
    "version": 3
   },
   "file_extension": ".py",
   "mimetype": "text/x-python",
   "name": "python",
   "nbconvert_exporter": "python",
   "pygments_lexer": "ipython3",
   "version": "3.11.3"
  }
 },
 "nbformat": 4,
 "nbformat_minor": 2
}
